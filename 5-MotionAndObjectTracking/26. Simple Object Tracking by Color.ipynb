{
 "cells": [
  {
   "cell_type": "markdown",
   "metadata": {
    "id": "0yyVyUZHdOJz"
   },
   "source": [
    "\n",
    "# **Rastreamento de objetos simples por cores**\n",
    "\n",
    "#### **iremos aprender:**\n",
    "1. Como usar um filtro de cor HSV para criar uma máscara e rastrear um objeto.\n"
   ]
  },
  {
   "cell_type": "code",
   "execution_count": 1,
   "metadata": {
    "colab": {
     "base_uri": "https://localhost:8080/"
    },
    "executionInfo": {
     "elapsed": 1739,
     "status": "ok",
     "timestamp": 1646413056865,
     "user": {
      "displayName": "Rajeev Ratan",
      "photoUrl": "https://lh3.googleusercontent.com/a-/AOh14GgtO-hUyDqrPmYR3HGcaXMtwRIq1ObsdPjhiGDSWSw=s64",
      "userId": "08597265227091462140"
     },
     "user_tz": 0
    },
    "id": "JUYTPAavdO3c",
    "outputId": "72c45313-5877-4a06-d451-804c17452753"
   },
   "outputs": [
    {
     "name": "stderr",
     "output_type": "stream",
     "text": [
      "'wget' is not recognized as an internal or external command,\n",
      "operable program or batch file.\n"
     ]
    }
   ],
   "source": [
    "# Our Setup, Import Libaries, Create our Imshow Function and Download our Images\n",
    "import cv2\n",
    "import numpy as np\n",
    "from matplotlib import pyplot as plt\n",
    "\n",
    "# Define our imshow function \n",
    "def imshow(title = \"Image\", image = None, size = 10):\n",
    "    w, h = image.shape[0], image.shape[1]\n",
    "    aspect_ratio = w/h\n",
    "    plt.figure(figsize=(size * aspect_ratio,size))\n",
    "    plt.imshow(cv2.cvtColor(image, cv2.COLOR_BGR2RGB))\n",
    "    plt.title(title)\n",
    "    plt.show()\n",
    "\n",
    "!wget https://moderncomputervision.s3.eu-west-2.amazonaws.com/bmwm4.mp4"
   ]
  },
  {
   "cell_type": "code",
   "execution_count": 14,
   "metadata": {
    "executionInfo": {
     "elapsed": 205,
     "status": "ok",
     "timestamp": 1646413063408,
     "user": {
      "displayName": "Rajeev Ratan",
      "photoUrl": "https://lh3.googleusercontent.com/a-/AOh14GgtO-hUyDqrPmYR3HGcaXMtwRIq1ObsdPjhiGDSWSw=s64",
      "userId": "08597265227091462140"
     },
     "user_tz": 0
    },
    "id": "4DQcN0CzdNAP"
   },
   "outputs": [],
   "source": [
    "# Rastreamento de Objetos\n",
    "# Importando bibliotecas necessárias para processamento de imagens e manipulação de vídeos\n",
    "import cv2  # Biblioteca OpenCV para análise de imagens e vídeos\n",
    "import numpy as np  # Numpy para operações numéricas\n",
    "\n",
    "# Inicializar câmera ou arquivo de vídeo\n",
    "# Descomente a linha abaixo para usar a webcam em vez de um arquivo de vídeo\n",
    "# cap = cv2.VideoCapture(0)\n",
    "\n",
    "# Definir o intervalo da cor alvo no espaço de cores HSV\n",
    "# Os limites inferior e superior determinam o intervalo de cores a serem rastreadas\n",
    "lower = np.array([0, 0, 0])  # Limite inferior HSV para cor preta\n",
    "upper = np.array([180, 255, 50])  # Limite superior HSV para cor preta\n",
    "\n",
    "# Criar uma lista vazia para armazenar os pontos centrais dos objetos detectados\n",
    "# Essa lista é usada para criar o efeito de rastro conectando os pontos\n",
    "points = []\n",
    "\n",
    "# Carregar o arquivo de vídeo\n",
    "# Substitua 'images/bmw2.mp4' pelo caminho do seu arquivo de vídeo\n",
    "cap = cv2.VideoCapture('images/pessoa.mp4')\n",
    "\n",
    "# Recuperar a largura e altura dos quadros do vídeo\n",
    "# Esses valores são necessários para formatar corretamente o vídeo de saída\n",
    "width = int(cap.get(3))  # Largura do quadro de vídeo\n",
    "height = int(cap.get(4))  # Altura do quadro de vídeo\n",
    "\n",
    "# Definir o codec e criar um objeto VideoWriter para salvar o vídeo processado\n",
    "# A saída será salva como 'bmw2_output.avi'\n",
    "out = cv2.VideoWriter('pessoa_output-HSVTracking.avi', cv2.VideoWriter_fourcc('M', 'J', 'P', 'G'), 30, (width, height))\n",
    "\n",
    "# Ler o primeiro quadro do vídeo para extrair suas dimensões\n",
    "ret, frame = cap.read()\n",
    "Height, Width = frame.shape[:2]  # Extrair a altura e largura do primeiro quadro\n",
    "frame_count = 0  # Contador de quadros processados\n",
    "radius = 0  # Raio do objeto detectado (inicializado como zero)\n",
    "\n",
    "# Iniciar o processamento dos quadros do vídeo em um loop\n",
    "while True:\n",
    "    # Capturar cada quadro do vídeo\n",
    "    ret, frame = cap.read()\n",
    "    \n",
    "    if ret:  # Se um quadro for capturado com sucesso\n",
    "        # Converter o quadro de BGR para o espaço de cores HSV\n",
    "        hsv_img = cv2.cvtColor(frame, cv2.COLOR_BGR2HSV)\n",
    "\n",
    "        # Criar uma máscara para a cor alvo usando o intervalo HSV definido\n",
    "        mask = cv2.inRange(hsv_img, lower, upper)\n",
    "\n",
    "        # Encontrar contornos na máscara\n",
    "        contours, _ = cv2.findContours(mask.copy(), cv2.RETR_EXTERNAL, cv2.CHAIN_APPROX_SIMPLE)\n",
    "\n",
    "        # Ponto central padrão caso nenhum contorno seja encontrado\n",
    "        center = (int(Height / 2), int(Width / 2))\n",
    "\n",
    "        if len(contours) > 0:  # Se pelo menos um contorno for detectado\n",
    "            # Encontrar o maior contorno com base na área\n",
    "            c = max(contours, key=cv2.contourArea)\n",
    "\n",
    "            # Calcular o menor círculo que engloba o maior contorno\n",
    "            (x, y), radius = cv2.minEnclosingCircle(c)\n",
    "\n",
    "            # Calcular momentos para encontrar o centróide do contorno\n",
    "            M = cv2.moments(c)\n",
    "            try:\n",
    "                # Calcular o centro do contorno usando os momentos\n",
    "                center = (int(M[\"m10\"] / M[\"m00\"]), int(M[\"m01\"] / M[\"m00\"]))\n",
    "            except ZeroDivisionError:\n",
    "                # Tratar divisão por zero caso os momentos sejam inválidos\n",
    "                center = (int(Height / 2), int(Width / 2))\n",
    "\n",
    "            # Processar apenas contornos com raio maior que 25 pixels\n",
    "            if radius > 25:\n",
    "                # Desenhar um círculo ao redor do objeto detectado\n",
    "                cv2.circle(frame, (int(x), int(y)), int(radius), (0, 0, 255), 2)\n",
    "\n",
    "                # Marcar o centróide do objeto detectado\n",
    "                cv2.circle(frame, center, 5, (0, 255, 0), -1)\n",
    "\n",
    "                cv2.drawContours(frame, [c], -1, (255,0,0), 3)\n",
    "\n",
    "            # Adicionar o centro à lista de pontos para criar o rastro\n",
    "            points.append(center)\n",
    "\n",
    "        # Se o raio for suficientemente grande, desenhar o rastro\n",
    "        if radius > 25:\n",
    "            for i in range(1, len(points)):\n",
    "                try:\n",
    "                    # Desenhar linhas conectando os pontos para formar o rastro\n",
    "                    cv2.line(frame, points[i - 1], points[i], (0, 255, 0), 2)\n",
    "                except:\n",
    "                    pass\n",
    "\n",
    "            # Reiniciar o contador de quadros\n",
    "            frame_count = 0\n",
    "\n",
    "        # Escrever o quadro processado no vídeo de saída\n",
    "        out.write(frame)\n",
    "    else:\n",
    "        # Encerrar o loop se nenhum quadro for capturado (fim do vídeo)\n",
    "        break\n",
    "\n",
    "# Liberar os objetos de captura e gravação de vídeo\n",
    "cap.release()\n",
    "out.release()\n"
   ]
  },
  {
   "cell_type": "code",
   "execution_count": null,
   "metadata": {
    "colab": {
     "base_uri": "https://localhost:8080/"
    },
    "executionInfo": {
     "elapsed": 42273,
     "status": "ok",
     "timestamp": 1637433140888,
     "user": {
      "displayName": "Rajeev Ratan",
      "photoUrl": "https://lh3.googleusercontent.com/a-/AOh14GgtO-hUyDqrPmYR3HGcaXMtwRIq1ObsdPjhiGDSWSw=s64",
      "userId": "08597265227091462140"
     },
     "user_tz": 0
    },
    "id": "12D1FPhXTewX",
    "outputId": "0686de6d-96fa-4a5e-e582-493a41325edf"
   },
   "outputs": [
    {
     "name": "stdout",
     "output_type": "stream",
     "text": [
      "ffmpeg version 3.4.8-0ubuntu0.2 Copyright (c) 2000-2020 the FFmpeg developers\n",
      "  built with gcc 7 (Ubuntu 7.5.0-3ubuntu1~18.04)\n",
      "  configuration: --prefix=/usr --extra-version=0ubuntu0.2 --toolchain=hardened --libdir=/usr/lib/x86_64-linux-gnu --incdir=/usr/include/x86_64-linux-gnu --enable-gpl --disable-stripping --enable-avresample --enable-avisynth --enable-gnutls --enable-ladspa --enable-libass --enable-libbluray --enable-libbs2b --enable-libcaca --enable-libcdio --enable-libflite --enable-libfontconfig --enable-libfreetype --enable-libfribidi --enable-libgme --enable-libgsm --enable-libmp3lame --enable-libmysofa --enable-libopenjpeg --enable-libopenmpt --enable-libopus --enable-libpulse --enable-librubberband --enable-librsvg --enable-libshine --enable-libsnappy --enable-libsoxr --enable-libspeex --enable-libssh --enable-libtheora --enable-libtwolame --enable-libvorbis --enable-libvpx --enable-libwavpack --enable-libwebp --enable-libx265 --enable-libxml2 --enable-libxvid --enable-libzmq --enable-libzvbi --enable-omx --enable-openal --enable-opengl --enable-sdl2 --enable-libdc1394 --enable-libdrm --enable-libiec61883 --enable-chromaprint --enable-frei0r --enable-libopencv --enable-libx264 --enable-shared\n",
      "  libavutil      55. 78.100 / 55. 78.100\n",
      "  libavcodec     57.107.100 / 57.107.100\n",
      "  libavformat    57. 83.100 / 57. 83.100\n",
      "  libavdevice    57. 10.100 / 57. 10.100\n",
      "  libavfilter     6.107.100 /  6.107.100\n",
      "  libavresample   3.  7.  0 /  3.  7.  0\n",
      "  libswscale      4.  8.100 /  4.  8.100\n",
      "  libswresample   2.  9.100 /  2.  9.100\n",
      "  libpostproc    54.  7.100 / 54.  7.100\n",
      "Input #0, avi, from '/content/bmwm4_output.avi':\n",
      "  Metadata:\n",
      "    encoder         : Lavf58.35.100\n",
      "  Duration: 00:00:22.70, start: 0.000000, bitrate: 23061 kb/s\n",
      "    Stream #0:0: Video: mjpeg (MJPG / 0x47504A4D), yuvj420p(pc, bt470bg/unknown/unknown), 1920x1080, 23079 kb/s, 30 fps, 30 tbr, 30 tbn, 30 tbc\n",
      "Stream mapping:\n",
      "  Stream #0:0 -> #0:0 (mjpeg (native) -> h264 (libx264))\n",
      "Press [q] to stop, [?] for help\n",
      "\u001b[1;36m[libx264 @ 0x55708913be00] \u001b[0musing cpu capabilities: MMX2 SSE2Fast SSSE3 SSE4.2 AVX FMA3 BMI2 AVX2\n",
      "\u001b[1;36m[libx264 @ 0x55708913be00] \u001b[0mprofile High, level 4.0\n",
      "\u001b[1;36m[libx264 @ 0x55708913be00] \u001b[0m264 - core 152 r2854 e9a5903 - H.264/MPEG-4 AVC codec - Copyleft 2003-2017 - http://www.videolan.org/x264.html - options: cabac=1 ref=3 deblock=1:0:0 analyse=0x3:0x113 me=hex subme=7 psy=1 psy_rd=1.00:0.00 mixed_ref=1 me_range=16 chroma_me=1 trellis=1 8x8dct=1 cqm=0 deadzone=21,11 fast_pskip=1 chroma_qp_offset=-2 threads=3 lookahead_threads=1 sliced_threads=0 nr=0 decimate=1 interlaced=0 bluray_compat=0 constrained_intra=0 bframes=3 b_pyramid=2 b_adapt=1 b_bias=0 direct=1 weightb=1 open_gop=0 weightp=2 keyint=250 keyint_min=25 scenecut=40 intra_refresh=0 rc_lookahead=40 rc=crf mbtree=1 crf=23.0 qcomp=0.60 qpmin=0 qpmax=69 qpstep=4 ip_ratio=1.40 aq=1:1.00\n",
      "Output #0, mp4, to 'bmwm4_output.mp4':\n",
      "  Metadata:\n",
      "    encoder         : Lavf57.83.100\n",
      "    Stream #0:0: Video: h264 (libx264) (avc1 / 0x31637661), yuvj420p(pc), 1920x1080, q=-1--1, 30 fps, 15360 tbn, 30 tbc\n",
      "    Metadata:\n",
      "      encoder         : Lavc57.107.100 libx264\n",
      "    Side data:\n",
      "      cpb: bitrate max/min/avg: 0/0/0 buffer size: 0 vbv_delay: -1\n",
      "frame=  681 fps= 16 q=-1.0 Lsize=    4439kB time=00:00:22.60 bitrate=1608.9kbits/s speed=0.54x    \n",
      "video:4430kB audio:0kB subtitle:0kB other streams:0kB global headers:0kB muxing overhead: 0.198871%\n",
      "\u001b[1;36m[libx264 @ 0x55708913be00] \u001b[0mframe I:9     Avg QP:15.22  size: 63333\n",
      "\u001b[1;36m[libx264 @ 0x55708913be00] \u001b[0mframe P:175   Avg QP:19.02  size: 20714\n",
      "\u001b[1;36m[libx264 @ 0x55708913be00] \u001b[0mframe B:497   Avg QP:19.63  size:   685\n",
      "\u001b[1;36m[libx264 @ 0x55708913be00] \u001b[0mconsecutive B-frames:  1.9%  1.2%  3.5% 93.4%\n",
      "\u001b[1;36m[libx264 @ 0x55708913be00] \u001b[0mmb I  I16..4: 34.4% 63.6%  2.1%\n",
      "\u001b[1;36m[libx264 @ 0x55708913be00] \u001b[0mmb P  I16..4:  4.4% 20.1%  0.5%  P16..4:  6.1%  2.2%  1.3%  0.0%  0.0%    skip:65.4%\n",
      "\u001b[1;36m[libx264 @ 0x55708913be00] \u001b[0mmb B  I16..4:  0.1%  0.2%  0.0%  B16..8:  5.8%  0.1%  0.0%  direct: 0.1%  skip:93.7%  L0:43.4% L1:56.2% BI: 0.4%\n",
      "\u001b[1;36m[libx264 @ 0x55708913be00] \u001b[0m8x8 transform intra:77.1% inter:72.4%\n",
      "\u001b[1;36m[libx264 @ 0x55708913be00] \u001b[0mcoded y,uvDC,uvAC intra: 45.4% 53.6% 9.0% inter: 1.1% 1.8% 0.2%\n",
      "\u001b[1;36m[libx264 @ 0x55708913be00] \u001b[0mi16 v,h,dc,p: 33% 50%  7% 10%\n",
      "\u001b[1;36m[libx264 @ 0x55708913be00] \u001b[0mi8 v,h,dc,ddl,ddr,vr,hd,vl,hu: 28% 40% 22%  2%  1%  1%  2%  1%  3%\n",
      "\u001b[1;36m[libx264 @ 0x55708913be00] \u001b[0mi4 v,h,dc,ddl,ddr,vr,hd,vl,hu: 22% 41% 13%  4%  4%  4%  5%  4%  4%\n",
      "\u001b[1;36m[libx264 @ 0x55708913be00] \u001b[0mi8c dc,h,v,p: 41% 37% 15%  6%\n",
      "\u001b[1;36m[libx264 @ 0x55708913be00] \u001b[0mWeighted P-Frames: Y:0.0% UV:0.0%\n",
      "\u001b[1;36m[libx264 @ 0x55708913be00] \u001b[0mref P L0: 75.0% 13.8%  9.0%  2.2%\n",
      "\u001b[1;36m[libx264 @ 0x55708913be00] \u001b[0mref B L0: 64.6% 30.1%  5.3%\n",
      "\u001b[1;36m[libx264 @ 0x55708913be00] \u001b[0mref B L1: 90.1%  9.9%\n",
      "\u001b[1;36m[libx264 @ 0x55708913be00] \u001b[0mkb/s:1598.39\n"
     ]
    }
   ],
   "source": [
    "!ffmpeg -i /content/bmwm4_output.avi bmwm4_output.mp4 -y"
   ]
  },
  {
   "cell_type": "code",
   "execution_count": null,
   "metadata": {
    "id": "AU1kp6WzUysK"
   },
   "outputs": [],
   "source": [
    "from IPython.display import HTML\n",
    "from base64 import b64encode\n",
    "\n",
    "mp4 = open('bmwm4_output.mp4','rb').read()\n",
    "data_url = \"data:video/mp4;base64,\" + b64encode(mp4).decode()"
   ]
  },
  {
   "cell_type": "code",
   "execution_count": null,
   "metadata": {
    "colab": {
     "base_uri": "https://localhost:8080/",
     "height": 1000,
     "output_embedded_package_id": "1jdECTZc5xQk3JpWcTFo_SNRQw8qZKQna"
    },
    "executionInfo": {
     "elapsed": 5050,
     "status": "ok",
     "timestamp": 1637433145927,
     "user": {
      "displayName": "Rajeev Ratan",
      "photoUrl": "https://lh3.googleusercontent.com/a-/AOh14GgtO-hUyDqrPmYR3HGcaXMtwRIq1ObsdPjhiGDSWSw=s64",
      "userId": "08597265227091462140"
     },
     "user_tz": 0
    },
    "id": "DPF0LEo-U1Gl",
    "outputId": "d46ea38e-57cb-441a-dd15-e14724572a13"
   },
   "outputs": [
    {
     "data": {
      "text/plain": [
       "Output hidden; open in https://colab.research.google.com to view."
      ]
     },
     "metadata": {},
     "output_type": "display_data"
    }
   ],
   "source": [
    "HTML(\"\"\"\n",
    "<video controls>\n",
    "      <source src=\"%s\" type=\"video/mp4\">\n",
    "</video>\n",
    "\"\"\" % data_url)"
   ]
  },
  {
   "cell_type": "code",
   "execution_count": null,
   "metadata": {
    "id": "gRPaVFB-XX0v"
   },
   "outputs": [],
   "source": []
  }
 ],
 "metadata": {
  "colab": {
   "authorship_tag": "ABX9TyO/8BWBpFyUCFE/F5tzgVfc",
   "collapsed_sections": [],
   "name": "26. Simple Object Tracking by Color.ipynb",
   "provenance": []
  },
  "kernelspec": {
   "display_name": "classicalCV",
   "language": "python",
   "name": "python3"
  },
  "language_info": {
   "codemirror_mode": {
    "name": "ipython",
    "version": 3
   },
   "file_extension": ".py",
   "mimetype": "text/x-python",
   "name": "python",
   "nbconvert_exporter": "python",
   "pygments_lexer": "ipython3",
   "version": "3.12.7"
  }
 },
 "nbformat": 4,
 "nbformat_minor": 0
}
