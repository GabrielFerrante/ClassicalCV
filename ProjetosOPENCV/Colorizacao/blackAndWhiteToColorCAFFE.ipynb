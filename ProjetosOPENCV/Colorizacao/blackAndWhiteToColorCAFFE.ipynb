{
 "cells": [
  {
   "cell_type": "code",
   "execution_count": 2,
   "metadata": {},
   "outputs": [],
   "source": [
    "import cv2\n",
    "import numpy as np\n",
    "from os import listdir\n",
    "from os.path import isfile, join\n",
    "from matplotlib import pyplot as plt"
   ]
  },
  {
   "cell_type": "code",
   "execution_count": 3,
   "metadata": {},
   "outputs": [],
   "source": [
    "# Define our imshow function \n",
    "def imshow(title = \"Image\", image = None, size = 10):\n",
    "    w, h = image.shape[0], image.shape[1]\n",
    "    aspect_ratio = w/h\n",
    "    plt.figure(figsize=(size * aspect_ratio,size))\n",
    "    plt.imshow(cv2.cvtColor(image, cv2.COLOR_BGR2RGB))\n",
    "    plt.title(title)\n",
    "    plt.show()"
   ]
  },
  {
   "cell_type": "code",
   "execution_count": null,
   "metadata": {},
   "outputs": [],
   "source": [
    "# Carrega imagens em preto e branco do diretório\n",
    "file_path = \"colorize/blackandwhite/\"\n",
    "blackandwhite_imgs = [f for f in listdir(file_path) if isfile(join(file_path, f))]\n",
    "kernel = 'colorize/pts_in_hull.npy'  # Centróides de cor no espaço AB\n",
    "\"\"\"\n",
    "Centróides de Cor (Cluster Centers) Pontos representativos no espaço AB que definem cores possíveis. \n",
    "Usados para restringir a saída da rede.\n",
    "\"\"\"\n",
    "\n",
    "if __name__ == '__main__':\n",
    "    # Carrega modelo pré-treinado (arquitetura e pesos)\n",
    "    net = cv2.dnn.readNetFromCaffe(\"colorize/colorization_deploy_v2.prototxt\",\n",
    "                               \"colorize/colorization_release_v2.caffemodel\")\n",
    "\n",
    "    # Configuração dos centróides como kernels de convolução 1x1\n",
    "    pts_in_hull = np.load(kernel).transpose().reshape(2, 313, 1, 1)\n",
    "    net.getLayer(net.getLayerId('class8_ab')).blobs = [pts_in_hull.astype(np.float32)]  # Camada de saída AB\n",
    "    net.getLayer(net.getLayerId('conv8_313_rh')).blobs = [np.full([1, 313], 2.606, np.float32)]  # Bias/ajuste final\n",
    "\n",
    "    for image in blackandwhite_imgs:\n",
    "        # Pré-processamento\n",
    "        img = cv2.imread(file_path+image)\n",
    "        img_rgb = (img[:,:,[2, 1, 0]] * 1.0 / 255).astype(np.float32)  # Converte BGR para RGB e normaliza\n",
    "        img_lab = cv2.cvtColor(img_rgb, cv2.COLOR_BGR2LAB)  # Converte para LAB\n",
    "        img_l = img_lab[:,:,0]  # Extrai canal L (luminância)\n",
    "\n",
    "        # get original image size\n",
    "        (H_orig,W_orig) = img_rgb.shape[:2] \n",
    "\n",
    "        # Redimensiona para entrada da rede (224x224)\n",
    "        img_rs = cv2.resize(img_rgb, (224, 224))\n",
    "        img_lab_rs = cv2.cvtColor(img_rs, cv2.COLOR_RGB2Lab)\n",
    "        img_l_rs = img_lab_rs[:,:,0]\n",
    "        img_l_rs -= 50  # Normalização: centraliza em torno de 0\n",
    "\n",
    "        # Inferência da rede\n",
    "        net.setInput(cv2.dnn.blobFromImage(img_l_rs))\n",
    "        ab_dec = net.forward('class8_ab')[0,:,:,:].transpose((1,2,0))  # Predição dos canais AB\n",
    "\n",
    "        # Pós-processamento\n",
    "        ab_dec_us = cv2.resize(ab_dec, (W_orig, H_orig))  # Redimensiona AB para tamanho original\n",
    "        img_lab_out = np.concatenate((img_l[:,:,np.newaxis], ab_dec_us), axis=2)  # Combina L original + AB previsto\n",
    "        img_bgr_out = np.clip(cv2.cvtColor(img_lab_out, cv2.COLOR_Lab2BGR), 0, 1)  # Converte para BGR e limita valores\n",
    "\n",
    "        # Exibe resultados\n",
    "        imshow('Original', img)\n",
    "        img_bgr_out = cv2.resize(img_bgr_out, (W_orig, H_orig), interpolation=cv2.INTER_AREA)  # Garante tamanho original\n",
    "        imshow('Colorized', img_bgr_out)"
   ]
  },
  {
   "cell_type": "markdown",
   "metadata": {},
   "source": [
    "Pontos-Chave:\n",
    "\n",
    "- Preservação de Detalhes: O canal L original é usado na saída, mantendo a textura/brilho da imagem inicial.\n",
    "\n",
    "- Eficiência: A rede processa imagens redimensionadas (224x224), reduzindo custo computacional.\n",
    "\n",
    "- Interpolação: INTER_AREA é usada para redimensionar a saída, ideal para redução de tamanho (preserva detalhes).\n",
    "\n",
    "- Normalização: Subtrair 50 no LAB (onde L varia de 0 a 100) centraliza os dados, facilitando o aprendizado da rede."
   ]
  }
 ],
 "metadata": {
  "kernelspec": {
   "display_name": "classicalCV",
   "language": "python",
   "name": "python3"
  },
  "language_info": {
   "codemirror_mode": {
    "name": "ipython",
    "version": 3
   },
   "file_extension": ".py",
   "mimetype": "text/x-python",
   "name": "python",
   "nbconvert_exporter": "python",
   "pygments_lexer": "ipython3",
   "version": "3.12.8"
  }
 },
 "nbformat": 4,
 "nbformat_minor": 2
}
